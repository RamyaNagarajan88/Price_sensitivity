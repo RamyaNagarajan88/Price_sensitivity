{
 "cells": [
  {
   "cell_type": "code",
   "execution_count": 21,
   "source": [
    "import pandas as pd\r\n",
    "import numpy as np\r\n",
    "import csv\r\n",
    "from sklearn.preprocessing import StandardScaler\r\n",
    "from sklearn.metrics import mean_squared_error\r\n",
    "from math import sqrt\r\n",
    "import statsmodels.api as sm\r\n",
    "from statsmodels.formula.api import ols\r\n"
   ],
   "outputs": [],
   "metadata": {}
  },
  {
   "cell_type": "code",
   "execution_count": 22,
   "source": [
    "data=pd.read_csv('avocado.csv')"
   ],
   "outputs": [],
   "metadata": {}
  },
  {
   "cell_type": "code",
   "execution_count": 23,
   "source": [
    "data.shape"
   ],
   "outputs": [
    {
     "output_type": "execute_result",
     "data": {
      "text/plain": [
       "(18249, 14)"
      ]
     },
     "metadata": {},
     "execution_count": 23
    }
   ],
   "metadata": {}
  },
  {
   "cell_type": "code",
   "execution_count": 24,
   "source": [
    "data=data.sort_values(by='Date',ascending='True')"
   ],
   "outputs": [],
   "metadata": {}
  },
  {
   "cell_type": "code",
   "execution_count": 25,
   "source": [
    "data.loc[data['region']=='Houston'].head()"
   ],
   "outputs": [
    {
     "output_type": "execute_result",
     "data": {
      "text/html": [
       "<div>\n",
       "<style scoped>\n",
       "    .dataframe tbody tr th:only-of-type {\n",
       "        vertical-align: middle;\n",
       "    }\n",
       "\n",
       "    .dataframe tbody tr th {\n",
       "        vertical-align: top;\n",
       "    }\n",
       "\n",
       "    .dataframe thead th {\n",
       "        text-align: right;\n",
       "    }\n",
       "</style>\n",
       "<table border=\"1\" class=\"dataframe\">\n",
       "  <thead>\n",
       "    <tr style=\"text-align: right;\">\n",
       "      <th></th>\n",
       "      <th>Unnamed: 0</th>\n",
       "      <th>Date</th>\n",
       "      <th>AveragePrice</th>\n",
       "      <th>Total Volume</th>\n",
       "      <th>4046</th>\n",
       "      <th>4225</th>\n",
       "      <th>4770</th>\n",
       "      <th>Total Bags</th>\n",
       "      <th>Small Bags</th>\n",
       "      <th>Large Bags</th>\n",
       "      <th>XLarge Bags</th>\n",
       "      <th>type</th>\n",
       "      <th>year</th>\n",
       "      <th>region</th>\n",
       "    </tr>\n",
       "  </thead>\n",
       "  <tbody>\n",
       "    <tr>\n",
       "      <th>10113</th>\n",
       "      <td>51</td>\n",
       "      <td>2015-01-04</td>\n",
       "      <td>1.22</td>\n",
       "      <td>8938.32</td>\n",
       "      <td>7009.77</td>\n",
       "      <td>671.88</td>\n",
       "      <td>0.00</td>\n",
       "      <td>1256.67</td>\n",
       "      <td>1256.67</td>\n",
       "      <td>0.00</td>\n",
       "      <td>0.0</td>\n",
       "      <td>organic</td>\n",
       "      <td>2015</td>\n",
       "      <td>Houston</td>\n",
       "    </tr>\n",
       "    <tr>\n",
       "      <th>987</th>\n",
       "      <td>51</td>\n",
       "      <td>2015-01-04</td>\n",
       "      <td>0.71</td>\n",
       "      <td>1062990.62</td>\n",
       "      <td>506426.58</td>\n",
       "      <td>436347.57</td>\n",
       "      <td>4378.92</td>\n",
       "      <td>115837.55</td>\n",
       "      <td>90299.85</td>\n",
       "      <td>25537.70</td>\n",
       "      <td>0.0</td>\n",
       "      <td>conventional</td>\n",
       "      <td>2015</td>\n",
       "      <td>Houston</td>\n",
       "    </tr>\n",
       "    <tr>\n",
       "      <th>986</th>\n",
       "      <td>50</td>\n",
       "      <td>2015-01-11</td>\n",
       "      <td>0.78</td>\n",
       "      <td>1062071.65</td>\n",
       "      <td>463272.52</td>\n",
       "      <td>441785.80</td>\n",
       "      <td>4094.47</td>\n",
       "      <td>152918.86</td>\n",
       "      <td>126995.76</td>\n",
       "      <td>25923.10</td>\n",
       "      <td>0.0</td>\n",
       "      <td>conventional</td>\n",
       "      <td>2015</td>\n",
       "      <td>Houston</td>\n",
       "    </tr>\n",
       "    <tr>\n",
       "      <th>10112</th>\n",
       "      <td>50</td>\n",
       "      <td>2015-01-11</td>\n",
       "      <td>1.26</td>\n",
       "      <td>7561.00</td>\n",
       "      <td>6142.35</td>\n",
       "      <td>818.65</td>\n",
       "      <td>0.00</td>\n",
       "      <td>600.00</td>\n",
       "      <td>600.00</td>\n",
       "      <td>0.00</td>\n",
       "      <td>0.0</td>\n",
       "      <td>organic</td>\n",
       "      <td>2015</td>\n",
       "      <td>Houston</td>\n",
       "    </tr>\n",
       "    <tr>\n",
       "      <th>985</th>\n",
       "      <td>49</td>\n",
       "      <td>2015-01-18</td>\n",
       "      <td>0.77</td>\n",
       "      <td>1017854.16</td>\n",
       "      <td>458532.19</td>\n",
       "      <td>429687.47</td>\n",
       "      <td>9353.74</td>\n",
       "      <td>120280.76</td>\n",
       "      <td>107320.39</td>\n",
       "      <td>12960.37</td>\n",
       "      <td>0.0</td>\n",
       "      <td>conventional</td>\n",
       "      <td>2015</td>\n",
       "      <td>Houston</td>\n",
       "    </tr>\n",
       "  </tbody>\n",
       "</table>\n",
       "</div>"
      ],
      "text/plain": [
       "       Unnamed: 0        Date  AveragePrice  Total Volume       4046  \\\n",
       "10113          51  2015-01-04          1.22       8938.32    7009.77   \n",
       "987            51  2015-01-04          0.71    1062990.62  506426.58   \n",
       "986            50  2015-01-11          0.78    1062071.65  463272.52   \n",
       "10112          50  2015-01-11          1.26       7561.00    6142.35   \n",
       "985            49  2015-01-18          0.77    1017854.16  458532.19   \n",
       "\n",
       "            4225     4770  Total Bags  Small Bags  Large Bags  XLarge Bags  \\\n",
       "10113     671.88     0.00     1256.67     1256.67        0.00          0.0   \n",
       "987    436347.57  4378.92   115837.55    90299.85    25537.70          0.0   \n",
       "986    441785.80  4094.47   152918.86   126995.76    25923.10          0.0   \n",
       "10112     818.65     0.00      600.00      600.00        0.00          0.0   \n",
       "985    429687.47  9353.74   120280.76   107320.39    12960.37          0.0   \n",
       "\n",
       "               type  year   region  \n",
       "10113       organic  2015  Houston  \n",
       "987    conventional  2015  Houston  \n",
       "986    conventional  2015  Houston  \n",
       "10112       organic  2015  Houston  \n",
       "985    conventional  2015  Houston  "
      ]
     },
     "metadata": {},
     "execution_count": 25
    }
   ],
   "metadata": {}
  },
  {
   "cell_type": "code",
   "execution_count": 26,
   "source": [
    "data=data[['Date','AveragePrice','Total Volume','year','region','type']]"
   ],
   "outputs": [],
   "metadata": {}
  },
  {
   "cell_type": "code",
   "execution_count": 27,
   "source": [
    "filt=(data['region']=='Houston') & (data['type']=='conventional')\r\n",
    "data=data.loc[filt].drop(columns=['region','type'])"
   ],
   "outputs": [],
   "metadata": {}
  },
  {
   "cell_type": "code",
   "execution_count": 28,
   "source": [
    "data=data.sort_values(by='Date',ascending='True')"
   ],
   "outputs": [],
   "metadata": {}
  },
  {
   "cell_type": "code",
   "execution_count": 29,
   "source": [
    "data['Date'] = pd.to_datetime(data['Date'])"
   ],
   "outputs": [],
   "metadata": {}
  },
  {
   "cell_type": "markdown",
   "source": [
    "<h1> Average price and total volume(sales count) is weekly average</h1>"
   ],
   "metadata": {}
  },
  {
   "cell_type": "code",
   "execution_count": 30,
   "source": [
    "data.set_index('Date',inplace=True)"
   ],
   "outputs": [],
   "metadata": {}
  },
  {
   "cell_type": "markdown",
   "source": [
    "<h1> Doing log-log transformation </h1>"
   ],
   "metadata": {}
  },
  {
   "cell_type": "code",
   "execution_count": 31,
   "source": [
    "data['log_AveragePrice'] = np.log(data['AveragePrice'])\r\n",
    "data['log_Total Volume'] = np.log(data['Total Volume'])\r\n",
    "data['Total Revenue']=data['AveragePrice']*data['Total Volume']\r\n",
    "data.drop(columns=['year'])"
   ],
   "outputs": [
    {
     "output_type": "execute_result",
     "data": {
      "text/html": [
       "<div>\n",
       "<style scoped>\n",
       "    .dataframe tbody tr th:only-of-type {\n",
       "        vertical-align: middle;\n",
       "    }\n",
       "\n",
       "    .dataframe tbody tr th {\n",
       "        vertical-align: top;\n",
       "    }\n",
       "\n",
       "    .dataframe thead th {\n",
       "        text-align: right;\n",
       "    }\n",
       "</style>\n",
       "<table border=\"1\" class=\"dataframe\">\n",
       "  <thead>\n",
       "    <tr style=\"text-align: right;\">\n",
       "      <th></th>\n",
       "      <th>AveragePrice</th>\n",
       "      <th>Total Volume</th>\n",
       "      <th>log_AveragePrice</th>\n",
       "      <th>log_Total Volume</th>\n",
       "      <th>Total Revenue</th>\n",
       "    </tr>\n",
       "    <tr>\n",
       "      <th>Date</th>\n",
       "      <th></th>\n",
       "      <th></th>\n",
       "      <th></th>\n",
       "      <th></th>\n",
       "      <th></th>\n",
       "    </tr>\n",
       "  </thead>\n",
       "  <tbody>\n",
       "    <tr>\n",
       "      <th>2015-01-04</th>\n",
       "      <td>0.71</td>\n",
       "      <td>1062990.62</td>\n",
       "      <td>-0.342490</td>\n",
       "      <td>13.876597</td>\n",
       "      <td>7.547233e+05</td>\n",
       "    </tr>\n",
       "    <tr>\n",
       "      <th>2015-01-11</th>\n",
       "      <td>0.78</td>\n",
       "      <td>1062071.65</td>\n",
       "      <td>-0.248461</td>\n",
       "      <td>13.875732</td>\n",
       "      <td>8.284159e+05</td>\n",
       "    </tr>\n",
       "    <tr>\n",
       "      <th>2015-01-18</th>\n",
       "      <td>0.77</td>\n",
       "      <td>1017854.16</td>\n",
       "      <td>-0.261365</td>\n",
       "      <td>13.833207</td>\n",
       "      <td>7.837477e+05</td>\n",
       "    </tr>\n",
       "    <tr>\n",
       "      <th>2015-01-25</th>\n",
       "      <td>0.77</td>\n",
       "      <td>983910.94</td>\n",
       "      <td>-0.261365</td>\n",
       "      <td>13.799291</td>\n",
       "      <td>7.576114e+05</td>\n",
       "    </tr>\n",
       "    <tr>\n",
       "      <th>2015-02-01</th>\n",
       "      <td>0.72</td>\n",
       "      <td>1280364.01</td>\n",
       "      <td>-0.328504</td>\n",
       "      <td>14.062655</td>\n",
       "      <td>9.218621e+05</td>\n",
       "    </tr>\n",
       "    <tr>\n",
       "      <th>...</th>\n",
       "      <td>...</td>\n",
       "      <td>...</td>\n",
       "      <td>...</td>\n",
       "      <td>...</td>\n",
       "      <td>...</td>\n",
       "    </tr>\n",
       "    <tr>\n",
       "      <th>2018-02-25</th>\n",
       "      <td>0.67</td>\n",
       "      <td>1657524.28</td>\n",
       "      <td>-0.400478</td>\n",
       "      <td>14.320836</td>\n",
       "      <td>1.110541e+06</td>\n",
       "    </tr>\n",
       "    <tr>\n",
       "      <th>2018-03-04</th>\n",
       "      <td>0.71</td>\n",
       "      <td>1501699.41</td>\n",
       "      <td>-0.342490</td>\n",
       "      <td>14.222108</td>\n",
       "      <td>1.066207e+06</td>\n",
       "    </tr>\n",
       "    <tr>\n",
       "      <th>2018-03-11</th>\n",
       "      <td>0.83</td>\n",
       "      <td>1324475.69</td>\n",
       "      <td>-0.186330</td>\n",
       "      <td>14.096527</td>\n",
       "      <td>1.099315e+06</td>\n",
       "    </tr>\n",
       "    <tr>\n",
       "      <th>2018-03-18</th>\n",
       "      <td>0.79</td>\n",
       "      <td>1243926.96</td>\n",
       "      <td>-0.235722</td>\n",
       "      <td>14.033784</td>\n",
       "      <td>9.827023e+05</td>\n",
       "    </tr>\n",
       "    <tr>\n",
       "      <th>2018-03-25</th>\n",
       "      <td>0.56</td>\n",
       "      <td>2120511.03</td>\n",
       "      <td>-0.579818</td>\n",
       "      <td>14.567168</td>\n",
       "      <td>1.187486e+06</td>\n",
       "    </tr>\n",
       "  </tbody>\n",
       "</table>\n",
       "<p>169 rows × 5 columns</p>\n",
       "</div>"
      ],
      "text/plain": [
       "            AveragePrice  Total Volume  log_AveragePrice  log_Total Volume  \\\n",
       "Date                                                                         \n",
       "2015-01-04          0.71    1062990.62         -0.342490         13.876597   \n",
       "2015-01-11          0.78    1062071.65         -0.248461         13.875732   \n",
       "2015-01-18          0.77    1017854.16         -0.261365         13.833207   \n",
       "2015-01-25          0.77     983910.94         -0.261365         13.799291   \n",
       "2015-02-01          0.72    1280364.01         -0.328504         14.062655   \n",
       "...                  ...           ...               ...               ...   \n",
       "2018-02-25          0.67    1657524.28         -0.400478         14.320836   \n",
       "2018-03-04          0.71    1501699.41         -0.342490         14.222108   \n",
       "2018-03-11          0.83    1324475.69         -0.186330         14.096527   \n",
       "2018-03-18          0.79    1243926.96         -0.235722         14.033784   \n",
       "2018-03-25          0.56    2120511.03         -0.579818         14.567168   \n",
       "\n",
       "            Total Revenue  \n",
       "Date                       \n",
       "2015-01-04   7.547233e+05  \n",
       "2015-01-11   8.284159e+05  \n",
       "2015-01-18   7.837477e+05  \n",
       "2015-01-25   7.576114e+05  \n",
       "2015-02-01   9.218621e+05  \n",
       "...                   ...  \n",
       "2018-02-25   1.110541e+06  \n",
       "2018-03-04   1.066207e+06  \n",
       "2018-03-11   1.099315e+06  \n",
       "2018-03-18   9.827023e+05  \n",
       "2018-03-25   1.187486e+06  \n",
       "\n",
       "[169 rows x 5 columns]"
      ]
     },
     "metadata": {},
     "execution_count": 31
    }
   ],
   "metadata": {}
  },
  {
   "cell_type": "code",
   "execution_count": 32,
   "source": [
    "X=np.array(data['log_AveragePrice'])\r\n",
    "y=np.array(data['log_Total Volume'])\r\n",
    "sc_X=StandardScaler()\r\n",
    "sc_y=StandardScaler()\r\n",
    "X=sc_X.fit_transform(X.reshape(-1, 1))\r\n",
    "y=sc_y.fit_transform(y.reshape(-1, 1))"
   ],
   "outputs": [],
   "metadata": {}
  },
  {
   "cell_type": "markdown",
   "source": [
    "<h2> Null Hypothesis: Price and Demand are not related.</h2>"
   ],
   "metadata": {}
  },
  {
   "cell_type": "code",
   "execution_count": 33,
   "source": [
    "model=sm.OLS(y,X).fit()\r\n",
    "print(model.summary())\r\n"
   ],
   "outputs": [
    {
     "output_type": "stream",
     "name": "stdout",
     "text": [
      "                                 OLS Regression Results                                \n",
      "=======================================================================================\n",
      "Dep. Variable:                      y   R-squared (uncentered):                   0.371\n",
      "Model:                            OLS   Adj. R-squared (uncentered):              0.367\n",
      "Method:                 Least Squares   F-statistic:                              98.98\n",
      "Date:                Mon, 04 Oct 2021   Prob (F-statistic):                    1.27e-18\n",
      "Time:                        22:11:58   Log-Likelihood:                         -200.66\n",
      "No. Observations:                 169   AIC:                                      403.3\n",
      "Df Residuals:                     168   BIC:                                      406.5\n",
      "Df Model:                           1                                                  \n",
      "Covariance Type:            nonrobust                                                  \n",
      "==============================================================================\n",
      "                 coef    std err          t      P>|t|      [0.025      0.975]\n",
      "------------------------------------------------------------------------------\n",
      "x1            -0.6089      0.061     -9.949      0.000      -0.730      -0.488\n",
      "==============================================================================\n",
      "Omnibus:                        4.006   Durbin-Watson:                   0.456\n",
      "Prob(Omnibus):                  0.135   Jarque-Bera (JB):                4.062\n",
      "Skew:                           0.369   Prob(JB):                        0.131\n",
      "Kurtosis:                       2.822   Cond. No.                         1.00\n",
      "==============================================================================\n",
      "\n",
      "Notes:\n",
      "[1] R² is computed without centering (uncentered) since the model does not contain a constant.\n",
      "[2] Standard Errors assume that the covariance matrix of the errors is correctly specified.\n"
     ]
    }
   ],
   "metadata": {}
  },
  {
   "cell_type": "code",
   "execution_count": 34,
   "source": [
    "model.pvalues"
   ],
   "outputs": [
    {
     "output_type": "execute_result",
     "data": {
      "text/plain": [
       "array([1.26523298e-18])"
      ]
     },
     "metadata": {},
     "execution_count": 34
    }
   ],
   "metadata": {}
  },
  {
   "cell_type": "markdown",
   "source": [
    "<h2> The small P values indicate that we can reject the null hypothesis </h2>"
   ],
   "metadata": {}
  }
 ],
 "metadata": {
  "orig_nbformat": 4,
  "language_info": {
   "name": "python",
   "version": "3.9.4",
   "mimetype": "text/x-python",
   "codemirror_mode": {
    "name": "ipython",
    "version": 3
   },
   "pygments_lexer": "ipython3",
   "nbconvert_exporter": "python",
   "file_extension": ".py"
  },
  "kernelspec": {
   "name": "python3",
   "display_name": "Python 3.9.4 64-bit"
  },
  "interpreter": {
   "hash": "dc35b9876508b1d2e1d46d593856ae8aa478e8b34d2a595b43b666b93debebc3"
  }
 },
 "nbformat": 4,
 "nbformat_minor": 2
}